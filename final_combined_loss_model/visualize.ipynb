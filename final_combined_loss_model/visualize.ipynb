{
 "cells": [
  {
   "cell_type": "code",
   "execution_count": null,
   "metadata": {},
   "outputs": [],
   "source": [
    "import pandas as pd\n",
    "import matplotlib.pyplot as plt\n"
   ]
  },
  {
   "cell_type": "code",
   "execution_count": null,
   "metadata": {},
   "outputs": [],
   "source": [
    "\n",
    "# Load the data\n",
    "filepath = \"/home/alvarovh/code/cse598_climate_proj/results/results_0.001/csv_logger_lambda_1.0_datafrac_0.001.txt\"  # Replace with the correct file path\n",
    "data = pd.read_csv(filepath)\n",
    "\n"
   ]
  },
  {
   "cell_type": "code",
   "execution_count": null,
   "metadata": {},
   "outputs": [],
   "source": [
    "# Plot training and validation losses\n",
    "plt.figure(figsize=(10, 6))\n",
    "plt.plot(data[\"epoch\"], data[\"train_loss\"], label=\"Training Loss\")\n",
    "plt.plot(data[\"epoch\"], data[\"val_loss\"], label=\"Validation Loss\")\n",
    "plt.xlabel(\"Epoch\")\n",
    "plt.ylabel(\"Loss\")\n",
    "plt.title(\"Training and Validation Loss\")\n",
    "plt.legend()\n",
    "plt.grid(True)\n",
    "plt.show()\n",
    "\n",
    "# Plot training and validation MAE\n",
    "plt.figure(figsize=(10, 6))\n",
    "plt.plot(data[\"epoch\"], data[\"train_mae\"], label=\"Training MAE\")\n",
    "plt.plot(data[\"epoch\"], data[\"val_mae\"], label=\"Validation MAE\")\n",
    "plt.xlabel(\"Epoch\")\n",
    "plt.ylabel(\"Mean Absolute Error (MAE)\")\n",
    "plt.title(\"Training and Validation MAE\")\n",
    "plt.legend()\n",
    "plt.grid(True)\n",
    "plt.show()\n",
    "\n",
    "# Plot training and validation MSE\n",
    "plt.figure(figsize=(10, 6))\n",
    "plt.plot(data[\"epoch\"], data[\"train_mse\"], label=\"Training MSE\")\n",
    "plt.plot(data[\"epoch\"], data[\"val_mse\"], label=\"Validation MSE\")\n",
    "plt.xlabel(\"Epoch\")\n",
    "plt.ylabel(\"Mean Squared Error (MSE)\")\n",
    "plt.title(\"Training and Validation MSE\")\n",
    "plt.legend()\n",
    "plt.grid(True)\n",
    "plt.show()\n",
    "\n",
    "# Plot training and validation energy losses\n",
    "plt.figure(figsize=(10, 6))\n",
    "plt.plot(data[\"epoch\"], data[\"train_energy_loss\"], label=\"Training Energy Loss\")\n",
    "plt.plot(data[\"epoch\"], data[\"val_energy_loss\"], label=\"Validation Energy Loss\")\n",
    "plt.xlabel(\"Epoch\")\n",
    "plt.ylabel(\"Energy Loss\")\n",
    "plt.title(\"Training and Validation Energy Loss\")\n",
    "plt.legend()\n",
    "plt.grid(True)\n",
    "plt.show()\n"
   ]
  }
 ],
 "metadata": {
  "kernelspec": {
   "display_name": "climsim_env",
   "language": "python",
   "name": "python3"
  },
  "language_info": {
   "name": "python",
   "version": "3.10.15"
  }
 },
 "nbformat": 4,
 "nbformat_minor": 2
}
